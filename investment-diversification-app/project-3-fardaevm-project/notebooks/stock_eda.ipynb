{
 "cells": [
  {
   "cell_type": "code",
   "id": "initial_id",
   "metadata": {
    "collapsed": true,
    "ExecuteTime": {
     "end_time": "2025-03-24T03:52:24.228280Z",
     "start_time": "2025-03-24T03:52:23.022368Z"
    }
   },
   "source": [
    "import pandas as pd\n",
    "import numpy as np\n",
    "import matplotlib.pyplot as plt"
   ],
   "outputs": [],
   "execution_count": 1
  },
  {
   "metadata": {
    "ExecuteTime": {
     "end_time": "2025-03-24T03:52:24.310626Z",
     "start_time": "2025-03-24T03:52:24.231746Z"
    }
   },
   "cell_type": "code",
   "source": "df_raw = pd.read_csv(\"../data/sp500_metadata.csv\")",
   "id": "79e50d70fe1ec114",
   "outputs": [],
   "execution_count": 2
  },
  {
   "metadata": {
    "ExecuteTime": {
     "end_time": "2025-03-24T03:52:24.331750Z",
     "start_time": "2025-03-24T03:52:24.313678Z"
    }
   },
   "cell_type": "code",
   "source": "df_raw.head()",
   "id": "6caf976c8f98bd81",
   "outputs": [
    {
     "data": {
      "text/plain": [
       "                        Date        Open        High         Low       Close  \\\n",
       "0  2024-12-02 00:00:00-05:00  132.874559  133.113387  131.730210  132.237701   \n",
       "1  2024-12-03 00:00:00-05:00  132.237705  132.576033  130.098265  130.506241   \n",
       "2  2024-12-04 00:00:00-05:00  130.287317  130.745066  128.336946  129.809677   \n",
       "3  2024-12-05 00:00:00-05:00  130.177863  134.914493  129.809669  132.675537   \n",
       "4  2024-12-06 00:00:00-05:00  132.595931  133.561171  131.551082  132.456619   \n",
       "\n",
       "    Volume  Dividends  Stock Splits Ticker  Short Name       Sector  \\\n",
       "0  3001900        0.0           0.0    MMM  3M Company  Industrials   \n",
       "1  2378400        0.0           0.0    MMM  3M Company  Industrials   \n",
       "2  2503400        0.0           0.0    MMM  3M Company  Industrials   \n",
       "3  4171800        0.0           0.0    MMM  3M Company  Industrials   \n",
       "4  1912300        0.0           0.0    MMM  3M Company  Industrials   \n",
       "\n",
       "        Industry  \n",
       "0  Conglomerates  \n",
       "1  Conglomerates  \n",
       "2  Conglomerates  \n",
       "3  Conglomerates  \n",
       "4  Conglomerates  "
      ],
      "text/html": [
       "<div>\n",
       "<style scoped>\n",
       "    .dataframe tbody tr th:only-of-type {\n",
       "        vertical-align: middle;\n",
       "    }\n",
       "\n",
       "    .dataframe tbody tr th {\n",
       "        vertical-align: top;\n",
       "    }\n",
       "\n",
       "    .dataframe thead th {\n",
       "        text-align: right;\n",
       "    }\n",
       "</style>\n",
       "<table border=\"1\" class=\"dataframe\">\n",
       "  <thead>\n",
       "    <tr style=\"text-align: right;\">\n",
       "      <th></th>\n",
       "      <th>Date</th>\n",
       "      <th>Open</th>\n",
       "      <th>High</th>\n",
       "      <th>Low</th>\n",
       "      <th>Close</th>\n",
       "      <th>Volume</th>\n",
       "      <th>Dividends</th>\n",
       "      <th>Stock Splits</th>\n",
       "      <th>Ticker</th>\n",
       "      <th>Short Name</th>\n",
       "      <th>Sector</th>\n",
       "      <th>Industry</th>\n",
       "    </tr>\n",
       "  </thead>\n",
       "  <tbody>\n",
       "    <tr>\n",
       "      <th>0</th>\n",
       "      <td>2024-12-02 00:00:00-05:00</td>\n",
       "      <td>132.874559</td>\n",
       "      <td>133.113387</td>\n",
       "      <td>131.730210</td>\n",
       "      <td>132.237701</td>\n",
       "      <td>3001900</td>\n",
       "      <td>0.0</td>\n",
       "      <td>0.0</td>\n",
       "      <td>MMM</td>\n",
       "      <td>3M Company</td>\n",
       "      <td>Industrials</td>\n",
       "      <td>Conglomerates</td>\n",
       "    </tr>\n",
       "    <tr>\n",
       "      <th>1</th>\n",
       "      <td>2024-12-03 00:00:00-05:00</td>\n",
       "      <td>132.237705</td>\n",
       "      <td>132.576033</td>\n",
       "      <td>130.098265</td>\n",
       "      <td>130.506241</td>\n",
       "      <td>2378400</td>\n",
       "      <td>0.0</td>\n",
       "      <td>0.0</td>\n",
       "      <td>MMM</td>\n",
       "      <td>3M Company</td>\n",
       "      <td>Industrials</td>\n",
       "      <td>Conglomerates</td>\n",
       "    </tr>\n",
       "    <tr>\n",
       "      <th>2</th>\n",
       "      <td>2024-12-04 00:00:00-05:00</td>\n",
       "      <td>130.287317</td>\n",
       "      <td>130.745066</td>\n",
       "      <td>128.336946</td>\n",
       "      <td>129.809677</td>\n",
       "      <td>2503400</td>\n",
       "      <td>0.0</td>\n",
       "      <td>0.0</td>\n",
       "      <td>MMM</td>\n",
       "      <td>3M Company</td>\n",
       "      <td>Industrials</td>\n",
       "      <td>Conglomerates</td>\n",
       "    </tr>\n",
       "    <tr>\n",
       "      <th>3</th>\n",
       "      <td>2024-12-05 00:00:00-05:00</td>\n",
       "      <td>130.177863</td>\n",
       "      <td>134.914493</td>\n",
       "      <td>129.809669</td>\n",
       "      <td>132.675537</td>\n",
       "      <td>4171800</td>\n",
       "      <td>0.0</td>\n",
       "      <td>0.0</td>\n",
       "      <td>MMM</td>\n",
       "      <td>3M Company</td>\n",
       "      <td>Industrials</td>\n",
       "      <td>Conglomerates</td>\n",
       "    </tr>\n",
       "    <tr>\n",
       "      <th>4</th>\n",
       "      <td>2024-12-06 00:00:00-05:00</td>\n",
       "      <td>132.595931</td>\n",
       "      <td>133.561171</td>\n",
       "      <td>131.551082</td>\n",
       "      <td>132.456619</td>\n",
       "      <td>1912300</td>\n",
       "      <td>0.0</td>\n",
       "      <td>0.0</td>\n",
       "      <td>MMM</td>\n",
       "      <td>3M Company</td>\n",
       "      <td>Industrials</td>\n",
       "      <td>Conglomerates</td>\n",
       "    </tr>\n",
       "  </tbody>\n",
       "</table>\n",
       "</div>"
      ]
     },
     "execution_count": 3,
     "metadata": {},
     "output_type": "execute_result"
    }
   ],
   "execution_count": 3
  },
  {
   "metadata": {
    "ExecuteTime": {
     "end_time": "2025-03-24T03:52:24.816418Z",
     "start_time": "2025-03-24T03:52:24.806041Z"
    }
   },
   "cell_type": "code",
   "source": "df = df_raw.drop(columns=['Open', 'High', 'Low', 'Dividends', 'Stock Splits'])",
   "id": "5f48d2e548d4c605",
   "outputs": [],
   "execution_count": 4
  },
  {
   "metadata": {
    "ExecuteTime": {
     "end_time": "2025-03-24T03:52:26.559356Z",
     "start_time": "2025-03-24T03:52:26.553901Z"
    }
   },
   "cell_type": "code",
   "source": "df = df.rename(columns={'Close': 'close_price', 'Short Name': 'company_name' })",
   "id": "1fb79b53d807f88f",
   "outputs": [],
   "execution_count": 5
  },
  {
   "metadata": {
    "ExecuteTime": {
     "end_time": "2025-03-24T03:52:27.633089Z",
     "start_time": "2025-03-24T03:52:27.628440Z"
    }
   },
   "cell_type": "code",
   "source": "df.columns = map(str.lower , df.columns)",
   "id": "fad8eb06f6fc091c",
   "outputs": [],
   "execution_count": 6
  },
  {
   "metadata": {
    "ExecuteTime": {
     "end_time": "2025-03-24T03:53:15.051560Z",
     "start_time": "2025-03-24T03:53:15.040242Z"
    }
   },
   "cell_type": "code",
   "source": "df",
   "id": "598331a4fc632a27",
   "outputs": [
    {
     "data": {
      "text/plain": [
       "                            date  close_price   volume ticker company_name  \\\n",
       "0      2024-12-02 00:00:00-05:00   132.237701  3001900    MMM   3M Company   \n",
       "1      2024-12-03 00:00:00-05:00   130.506241  2378400    MMM   3M Company   \n",
       "2      2024-12-04 00:00:00-05:00   129.809677  2503400    MMM   3M Company   \n",
       "3      2024-12-05 00:00:00-05:00   132.675537  4171800    MMM   3M Company   \n",
       "4      2024-12-06 00:00:00-05:00   132.456619  1912300    MMM   3M Company   \n",
       "...                          ...          ...      ...    ...          ...   \n",
       "30175  2025-02-24 00:00:00-05:00   165.309998  3698000    ZTS  Zoetis Inc.   \n",
       "30176  2025-02-25 00:00:00-05:00   168.529999  4003300    ZTS  Zoetis Inc.   \n",
       "30177  2025-02-26 00:00:00-05:00   164.990005  2609700    ZTS  Zoetis Inc.   \n",
       "30178  2025-02-27 00:00:00-05:00   164.979996  2253500    ZTS  Zoetis Inc.   \n",
       "30179  2025-02-28 00:00:00-05:00   167.240005  3333300    ZTS  Zoetis Inc.   \n",
       "\n",
       "            sector                                  industry  \n",
       "0      Industrials                             Conglomerates  \n",
       "1      Industrials                             Conglomerates  \n",
       "2      Industrials                             Conglomerates  \n",
       "3      Industrials                             Conglomerates  \n",
       "4      Industrials                             Conglomerates  \n",
       "...            ...                                       ...  \n",
       "30175   Healthcare  Drug Manufacturers - Specialty & Generic  \n",
       "30176   Healthcare  Drug Manufacturers - Specialty & Generic  \n",
       "30177   Healthcare  Drug Manufacturers - Specialty & Generic  \n",
       "30178   Healthcare  Drug Manufacturers - Specialty & Generic  \n",
       "30179   Healthcare  Drug Manufacturers - Specialty & Generic  \n",
       "\n",
       "[30180 rows x 7 columns]"
      ],
      "text/html": [
       "<div>\n",
       "<style scoped>\n",
       "    .dataframe tbody tr th:only-of-type {\n",
       "        vertical-align: middle;\n",
       "    }\n",
       "\n",
       "    .dataframe tbody tr th {\n",
       "        vertical-align: top;\n",
       "    }\n",
       "\n",
       "    .dataframe thead th {\n",
       "        text-align: right;\n",
       "    }\n",
       "</style>\n",
       "<table border=\"1\" class=\"dataframe\">\n",
       "  <thead>\n",
       "    <tr style=\"text-align: right;\">\n",
       "      <th></th>\n",
       "      <th>date</th>\n",
       "      <th>close_price</th>\n",
       "      <th>volume</th>\n",
       "      <th>ticker</th>\n",
       "      <th>company_name</th>\n",
       "      <th>sector</th>\n",
       "      <th>industry</th>\n",
       "    </tr>\n",
       "  </thead>\n",
       "  <tbody>\n",
       "    <tr>\n",
       "      <th>0</th>\n",
       "      <td>2024-12-02 00:00:00-05:00</td>\n",
       "      <td>132.237701</td>\n",
       "      <td>3001900</td>\n",
       "      <td>MMM</td>\n",
       "      <td>3M Company</td>\n",
       "      <td>Industrials</td>\n",
       "      <td>Conglomerates</td>\n",
       "    </tr>\n",
       "    <tr>\n",
       "      <th>1</th>\n",
       "      <td>2024-12-03 00:00:00-05:00</td>\n",
       "      <td>130.506241</td>\n",
       "      <td>2378400</td>\n",
       "      <td>MMM</td>\n",
       "      <td>3M Company</td>\n",
       "      <td>Industrials</td>\n",
       "      <td>Conglomerates</td>\n",
       "    </tr>\n",
       "    <tr>\n",
       "      <th>2</th>\n",
       "      <td>2024-12-04 00:00:00-05:00</td>\n",
       "      <td>129.809677</td>\n",
       "      <td>2503400</td>\n",
       "      <td>MMM</td>\n",
       "      <td>3M Company</td>\n",
       "      <td>Industrials</td>\n",
       "      <td>Conglomerates</td>\n",
       "    </tr>\n",
       "    <tr>\n",
       "      <th>3</th>\n",
       "      <td>2024-12-05 00:00:00-05:00</td>\n",
       "      <td>132.675537</td>\n",
       "      <td>4171800</td>\n",
       "      <td>MMM</td>\n",
       "      <td>3M Company</td>\n",
       "      <td>Industrials</td>\n",
       "      <td>Conglomerates</td>\n",
       "    </tr>\n",
       "    <tr>\n",
       "      <th>4</th>\n",
       "      <td>2024-12-06 00:00:00-05:00</td>\n",
       "      <td>132.456619</td>\n",
       "      <td>1912300</td>\n",
       "      <td>MMM</td>\n",
       "      <td>3M Company</td>\n",
       "      <td>Industrials</td>\n",
       "      <td>Conglomerates</td>\n",
       "    </tr>\n",
       "    <tr>\n",
       "      <th>...</th>\n",
       "      <td>...</td>\n",
       "      <td>...</td>\n",
       "      <td>...</td>\n",
       "      <td>...</td>\n",
       "      <td>...</td>\n",
       "      <td>...</td>\n",
       "      <td>...</td>\n",
       "    </tr>\n",
       "    <tr>\n",
       "      <th>30175</th>\n",
       "      <td>2025-02-24 00:00:00-05:00</td>\n",
       "      <td>165.309998</td>\n",
       "      <td>3698000</td>\n",
       "      <td>ZTS</td>\n",
       "      <td>Zoetis Inc.</td>\n",
       "      <td>Healthcare</td>\n",
       "      <td>Drug Manufacturers - Specialty &amp; Generic</td>\n",
       "    </tr>\n",
       "    <tr>\n",
       "      <th>30176</th>\n",
       "      <td>2025-02-25 00:00:00-05:00</td>\n",
       "      <td>168.529999</td>\n",
       "      <td>4003300</td>\n",
       "      <td>ZTS</td>\n",
       "      <td>Zoetis Inc.</td>\n",
       "      <td>Healthcare</td>\n",
       "      <td>Drug Manufacturers - Specialty &amp; Generic</td>\n",
       "    </tr>\n",
       "    <tr>\n",
       "      <th>30177</th>\n",
       "      <td>2025-02-26 00:00:00-05:00</td>\n",
       "      <td>164.990005</td>\n",
       "      <td>2609700</td>\n",
       "      <td>ZTS</td>\n",
       "      <td>Zoetis Inc.</td>\n",
       "      <td>Healthcare</td>\n",
       "      <td>Drug Manufacturers - Specialty &amp; Generic</td>\n",
       "    </tr>\n",
       "    <tr>\n",
       "      <th>30178</th>\n",
       "      <td>2025-02-27 00:00:00-05:00</td>\n",
       "      <td>164.979996</td>\n",
       "      <td>2253500</td>\n",
       "      <td>ZTS</td>\n",
       "      <td>Zoetis Inc.</td>\n",
       "      <td>Healthcare</td>\n",
       "      <td>Drug Manufacturers - Specialty &amp; Generic</td>\n",
       "    </tr>\n",
       "    <tr>\n",
       "      <th>30179</th>\n",
       "      <td>2025-02-28 00:00:00-05:00</td>\n",
       "      <td>167.240005</td>\n",
       "      <td>3333300</td>\n",
       "      <td>ZTS</td>\n",
       "      <td>Zoetis Inc.</td>\n",
       "      <td>Healthcare</td>\n",
       "      <td>Drug Manufacturers - Specialty &amp; Generic</td>\n",
       "    </tr>\n",
       "  </tbody>\n",
       "</table>\n",
       "<p>30180 rows × 7 columns</p>\n",
       "</div>"
      ]
     },
     "execution_count": 12,
     "metadata": {},
     "output_type": "execute_result"
    }
   ],
   "execution_count": 12
  },
  {
   "metadata": {
    "ExecuteTime": {
     "end_time": "2025-03-24T03:52:32.067576Z",
     "start_time": "2025-03-24T03:52:32.057678Z"
    }
   },
   "cell_type": "code",
   "source": "df.head()",
   "id": "20238d72924e1944",
   "outputs": [
    {
     "data": {
      "text/plain": [
       "                        date  close_price   volume ticker company_name  \\\n",
       "0  2024-12-02 00:00:00-05:00   132.237701  3001900    MMM   3M Company   \n",
       "1  2024-12-03 00:00:00-05:00   130.506241  2378400    MMM   3M Company   \n",
       "2  2024-12-04 00:00:00-05:00   129.809677  2503400    MMM   3M Company   \n",
       "3  2024-12-05 00:00:00-05:00   132.675537  4171800    MMM   3M Company   \n",
       "4  2024-12-06 00:00:00-05:00   132.456619  1912300    MMM   3M Company   \n",
       "\n",
       "        sector       industry  \n",
       "0  Industrials  Conglomerates  \n",
       "1  Industrials  Conglomerates  \n",
       "2  Industrials  Conglomerates  \n",
       "3  Industrials  Conglomerates  \n",
       "4  Industrials  Conglomerates  "
      ],
      "text/html": [
       "<div>\n",
       "<style scoped>\n",
       "    .dataframe tbody tr th:only-of-type {\n",
       "        vertical-align: middle;\n",
       "    }\n",
       "\n",
       "    .dataframe tbody tr th {\n",
       "        vertical-align: top;\n",
       "    }\n",
       "\n",
       "    .dataframe thead th {\n",
       "        text-align: right;\n",
       "    }\n",
       "</style>\n",
       "<table border=\"1\" class=\"dataframe\">\n",
       "  <thead>\n",
       "    <tr style=\"text-align: right;\">\n",
       "      <th></th>\n",
       "      <th>date</th>\n",
       "      <th>close_price</th>\n",
       "      <th>volume</th>\n",
       "      <th>ticker</th>\n",
       "      <th>company_name</th>\n",
       "      <th>sector</th>\n",
       "      <th>industry</th>\n",
       "    </tr>\n",
       "  </thead>\n",
       "  <tbody>\n",
       "    <tr>\n",
       "      <th>0</th>\n",
       "      <td>2024-12-02 00:00:00-05:00</td>\n",
       "      <td>132.237701</td>\n",
       "      <td>3001900</td>\n",
       "      <td>MMM</td>\n",
       "      <td>3M Company</td>\n",
       "      <td>Industrials</td>\n",
       "      <td>Conglomerates</td>\n",
       "    </tr>\n",
       "    <tr>\n",
       "      <th>1</th>\n",
       "      <td>2024-12-03 00:00:00-05:00</td>\n",
       "      <td>130.506241</td>\n",
       "      <td>2378400</td>\n",
       "      <td>MMM</td>\n",
       "      <td>3M Company</td>\n",
       "      <td>Industrials</td>\n",
       "      <td>Conglomerates</td>\n",
       "    </tr>\n",
       "    <tr>\n",
       "      <th>2</th>\n",
       "      <td>2024-12-04 00:00:00-05:00</td>\n",
       "      <td>129.809677</td>\n",
       "      <td>2503400</td>\n",
       "      <td>MMM</td>\n",
       "      <td>3M Company</td>\n",
       "      <td>Industrials</td>\n",
       "      <td>Conglomerates</td>\n",
       "    </tr>\n",
       "    <tr>\n",
       "      <th>3</th>\n",
       "      <td>2024-12-05 00:00:00-05:00</td>\n",
       "      <td>132.675537</td>\n",
       "      <td>4171800</td>\n",
       "      <td>MMM</td>\n",
       "      <td>3M Company</td>\n",
       "      <td>Industrials</td>\n",
       "      <td>Conglomerates</td>\n",
       "    </tr>\n",
       "    <tr>\n",
       "      <th>4</th>\n",
       "      <td>2024-12-06 00:00:00-05:00</td>\n",
       "      <td>132.456619</td>\n",
       "      <td>1912300</td>\n",
       "      <td>MMM</td>\n",
       "      <td>3M Company</td>\n",
       "      <td>Industrials</td>\n",
       "      <td>Conglomerates</td>\n",
       "    </tr>\n",
       "  </tbody>\n",
       "</table>\n",
       "</div>"
      ]
     },
     "execution_count": 8,
     "metadata": {},
     "output_type": "execute_result"
    }
   ],
   "execution_count": 8
  },
  {
   "metadata": {
    "ExecuteTime": {
     "end_time": "2025-03-24T03:52:35.946646Z",
     "start_time": "2025-03-24T03:52:35.940787Z"
    }
   },
   "cell_type": "code",
   "source": "df.shape",
   "id": "5d815619fdb79578",
   "outputs": [
    {
     "data": {
      "text/plain": [
       "(30180, 7)"
      ]
     },
     "execution_count": 9,
     "metadata": {},
     "output_type": "execute_result"
    }
   ],
   "execution_count": 9
  },
  {
   "metadata": {
    "ExecuteTime": {
     "end_time": "2025-03-24T03:52:36.131094Z",
     "start_time": "2025-03-24T03:52:36.116420Z"
    }
   },
   "cell_type": "code",
   "source": "df.info()",
   "id": "9aacc0cbb7715f44",
   "outputs": [
    {
     "name": "stdout",
     "output_type": "stream",
     "text": [
      "<class 'pandas.core.frame.DataFrame'>\n",
      "RangeIndex: 30180 entries, 0 to 30179\n",
      "Data columns (total 7 columns):\n",
      " #   Column        Non-Null Count  Dtype  \n",
      "---  ------        --------------  -----  \n",
      " 0   date          30180 non-null  object \n",
      " 1   close_price   30180 non-null  float64\n",
      " 2   volume        30180 non-null  int64  \n",
      " 3   ticker        30180 non-null  object \n",
      " 4   company_name  30180 non-null  object \n",
      " 5   sector        30180 non-null  object \n",
      " 6   industry      30180 non-null  object \n",
      "dtypes: float64(1), int64(1), object(5)\n",
      "memory usage: 1.6+ MB\n"
     ]
    }
   ],
   "execution_count": 10
  },
  {
   "metadata": {
    "ExecuteTime": {
     "end_time": "2025-03-24T03:52:37.534870Z",
     "start_time": "2025-03-24T03:52:37.520898Z"
    }
   },
   "cell_type": "code",
   "source": "df.describe()",
   "id": "d21d4e60ad095b22",
   "outputs": [
    {
     "data": {
      "text/plain": [
       "        close_price        volume\n",
       "count  30180.000000  3.018000e+04\n",
       "mean     222.322408  5.792417e+06\n",
       "std      482.306720  1.663110e+07\n",
       "min        8.470000  8.800000e+03\n",
       "25%       68.929670  1.093700e+06\n",
       "50%      123.359406  2.251000e+06\n",
       "75%      232.642170  4.967525e+06\n",
       "max     9184.919922  8.188309e+08"
      ],
      "text/html": [
       "<div>\n",
       "<style scoped>\n",
       "    .dataframe tbody tr th:only-of-type {\n",
       "        vertical-align: middle;\n",
       "    }\n",
       "\n",
       "    .dataframe tbody tr th {\n",
       "        vertical-align: top;\n",
       "    }\n",
       "\n",
       "    .dataframe thead th {\n",
       "        text-align: right;\n",
       "    }\n",
       "</style>\n",
       "<table border=\"1\" class=\"dataframe\">\n",
       "  <thead>\n",
       "    <tr style=\"text-align: right;\">\n",
       "      <th></th>\n",
       "      <th>close_price</th>\n",
       "      <th>volume</th>\n",
       "    </tr>\n",
       "  </thead>\n",
       "  <tbody>\n",
       "    <tr>\n",
       "      <th>count</th>\n",
       "      <td>30180.000000</td>\n",
       "      <td>3.018000e+04</td>\n",
       "    </tr>\n",
       "    <tr>\n",
       "      <th>mean</th>\n",
       "      <td>222.322408</td>\n",
       "      <td>5.792417e+06</td>\n",
       "    </tr>\n",
       "    <tr>\n",
       "      <th>std</th>\n",
       "      <td>482.306720</td>\n",
       "      <td>1.663110e+07</td>\n",
       "    </tr>\n",
       "    <tr>\n",
       "      <th>min</th>\n",
       "      <td>8.470000</td>\n",
       "      <td>8.800000e+03</td>\n",
       "    </tr>\n",
       "    <tr>\n",
       "      <th>25%</th>\n",
       "      <td>68.929670</td>\n",
       "      <td>1.093700e+06</td>\n",
       "    </tr>\n",
       "    <tr>\n",
       "      <th>50%</th>\n",
       "      <td>123.359406</td>\n",
       "      <td>2.251000e+06</td>\n",
       "    </tr>\n",
       "    <tr>\n",
       "      <th>75%</th>\n",
       "      <td>232.642170</td>\n",
       "      <td>4.967525e+06</td>\n",
       "    </tr>\n",
       "    <tr>\n",
       "      <th>max</th>\n",
       "      <td>9184.919922</td>\n",
       "      <td>8.188309e+08</td>\n",
       "    </tr>\n",
       "  </tbody>\n",
       "</table>\n",
       "</div>"
      ]
     },
     "execution_count": 11,
     "metadata": {},
     "output_type": "execute_result"
    }
   ],
   "execution_count": 11
  },
  {
   "metadata": {
    "ExecuteTime": {
     "end_time": "2025-03-24T03:57:18.231977Z",
     "start_time": "2025-03-24T03:57:18.171329Z"
    }
   },
   "cell_type": "code",
   "source": "df.isnull().sum()",
   "id": "7d08bc8915fbad0d",
   "outputs": [
    {
     "data": {
      "text/plain": [
       "date            0\n",
       "close_price     0\n",
       "volume          0\n",
       "ticker          0\n",
       "company_name    0\n",
       "sector          0\n",
       "industry        0\n",
       "dtype: int64"
      ]
     },
     "execution_count": 18,
     "metadata": {},
     "output_type": "execute_result"
    }
   ],
   "execution_count": 18
  },
  {
   "metadata": {
    "ExecuteTime": {
     "end_time": "2025-03-24T03:35:27.234753Z",
     "start_time": "2025-03-24T03:35:27.231763Z"
    }
   },
   "cell_type": "code",
   "source": "",
   "id": "cb1f99a4d619c036",
   "outputs": [],
   "execution_count": 9
  },
  {
   "metadata": {},
   "cell_type": "code",
   "outputs": [],
   "execution_count": null,
   "source": "",
   "id": "7a899a43071e417d"
  }
 ],
 "metadata": {
  "kernelspec": {
   "display_name": "Python 3",
   "language": "python",
   "name": "python3"
  },
  "language_info": {
   "codemirror_mode": {
    "name": "ipython",
    "version": 2
   },
   "file_extension": ".py",
   "mimetype": "text/x-python",
   "name": "python",
   "nbconvert_exporter": "python",
   "pygments_lexer": "ipython2",
   "version": "2.7.6"
  }
 },
 "nbformat": 4,
 "nbformat_minor": 5
}
